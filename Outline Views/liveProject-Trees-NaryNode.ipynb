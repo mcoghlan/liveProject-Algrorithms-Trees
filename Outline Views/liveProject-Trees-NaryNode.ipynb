{
 "cells": [
  {
   "cell_type": "code",
   "execution_count": 10,
   "id": "1e14bd5c",
   "metadata": {},
   "outputs": [],
   "source": [
    "class NaryNode:\n",
    "\n",
    "    # result += self.left_child.__str__(level + 1)\n",
    "    indent = \"  \"\n",
    "    result=\"\"\n",
    "    \n",
    "    def add_child(self, child):\n",
    "        self.children.append(child)        \n",
    "    \n",
    "    def __str__(self, level=0):\n",
    "\n",
    "        result = \"\"\n",
    "\n",
    "        result = level * NaryNode.indent + f'{self.value}:\\n'\n",
    "        \n",
    "        for child in self.children:\n",
    "            result += child.__str__(level + 1)\n",
    "        return result\n",
    "                \n",
    "\n",
    "    def __init__(self, v=\"\", children=[]):\n",
    "        self.value = v\n",
    "        self.children = []\n",
    "        return\n"
   ]
  },
  {
   "cell_type": "code",
   "execution_count": 11,
   "id": "5a9fcdc7",
   "metadata": {},
   "outputs": [],
   "source": [
    "root = NaryNode('Root')\n",
    "a = NaryNode('A')\n",
    "b = NaryNode('B')\n",
    "c = NaryNode('C')\n",
    "d = NaryNode('D')\n",
    "e = NaryNode('E')\n",
    "f = NaryNode('F')\n",
    "g = NaryNode('G')\n",
    "h = NaryNode('H')\n",
    "i = NaryNode('I')\n",
    "\n",
    "root.add_child(a)\n",
    "root.add_child(b)\n",
    "root.add_child(c)\n",
    "a.add_child(d)\n",
    "a.add_child(e)\n",
    "c.add_child(f)\n",
    "d.add_child(g)\n",
    "f.add_child(h)\n",
    "f.add_child(i)"
   ]
  },
  {
   "cell_type": "code",
   "execution_count": 12,
   "id": "67a9e8d4",
   "metadata": {},
   "outputs": [
    {
     "name": "stdout",
     "output_type": "stream",
     "text": [
      "Root:\n",
      "  A:\n",
      "    D:\n",
      "      G:\n",
      "    E:\n",
      "  B:\n",
      "  C:\n",
      "    F:\n",
      "      H:\n",
      "      I:\n",
      "\n",
      "A:\n",
      "  D:\n",
      "    G:\n",
      "  E:\n",
      "\n"
     ]
    }
   ],
   "source": [
    "print(root)\n",
    "print(a)"
   ]
  }
 ],
 "metadata": {
  "kernelspec": {
   "display_name": "Python 3 (ipykernel)",
   "language": "python",
   "name": "python3"
  },
  "language_info": {
   "codemirror_mode": {
    "name": "ipython",
    "version": 3
   },
   "file_extension": ".py",
   "mimetype": "text/x-python",
   "name": "python",
   "nbconvert_exporter": "python",
   "pygments_lexer": "ipython3",
   "version": "3.9.15"
  },
  "vscode": {
   "interpreter": {
    "hash": "10ca8bccea1a17e4ca7b4220bf3091979321323de79aed03d0398ca6025a9d7e"
   }
  }
 },
 "nbformat": 4,
 "nbformat_minor": 5
}
