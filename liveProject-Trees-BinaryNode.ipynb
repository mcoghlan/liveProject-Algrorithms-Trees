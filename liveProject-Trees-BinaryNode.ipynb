{
 "cells": [
  {
   "cell_type": "code",
   "execution_count": 5,
   "id": "6ff03eec",
   "metadata": {},
   "outputs": [
    {
     "name": "stdout",
     "output_type": "stream",
     "text": [
      "Root:  A B\n",
      "A:  C D\n",
      "B:  None E\n",
      "C:  None None\n",
      "D:  None None\n",
      "E:  F None\n",
      "F:  None None\n"
     ]
    }
   ],
   "source": [
    "class BinaryNode:\n",
    "    \n",
    "    def add_left(self, left):\n",
    "        self.left_child = left\n",
    "        \n",
    "    def add_right(self, right):\n",
    "        self.right_child = right\n",
    "    \n",
    "    def __str__(self):\n",
    "        return (self.value, self.left_child, self.right_child)\n",
    "    \n",
    "    def __init__(self, v=0, lc = \"None\", rc = \"None\"):\n",
    "        self.value = v\n",
    "        self.left_child = lc\n",
    "        self.right_child = rc\n",
    "        return  \n",
    "    \n",
    "           \n",
    "            \n",
    "root = BinaryNode()\n",
    "A = BinaryNode()\n",
    "B = BinaryNode()\n",
    "C = BinaryNode()\n",
    "D = BinaryNode()\n",
    "E = BinaryNode()\n",
    "F = BinaryNode()\n",
    "\n",
    "root.add_left(\"A\")\n",
    "root.add_right(\"B\")\n",
    "A.add_left(\"C\")\n",
    "A.add_right(\"D\")\n",
    "B.add_right(\"E\")\n",
    "E.add_left(\"F\")\n",
    "\n",
    "print(\"Root: \", root.left_child, root.right_child)\n",
    "print(\"A: \", A.left_child, A.right_child)\n",
    "print(\"B: \", B.left_child, B.right_child)\n",
    "print(\"C: \", C.left_child, C.right_child)\n",
    "print(\"D: \", D.left_child, D.right_child)\n",
    "print(\"E: \", E.left_child, E.right_child)\n",
    "print(\"F: \", F.left_child, F.right_child)\n"
   ]
  },
  {
   "cell_type": "code",
   "execution_count": 3,
   "id": "91eca511",
   "metadata": {},
   "outputs": [
    {
     "name": "stdout",
     "output_type": "stream",
     "text": [
      "Root:  A B\n"
     ]
    }
   ],
   "source": [
    "print(\"Root: \", root.left_child, root.right_child)"
   ]
  },
  {
   "cell_type": "code",
   "execution_count": null,
   "id": "fb2460fb",
   "metadata": {},
   "outputs": [],
   "source": []
  }
 ],
 "metadata": {
  "kernelspec": {
   "display_name": "Python 3 (ipykernel)",
   "language": "python",
   "name": "python3"
  },
  "language_info": {
   "codemirror_mode": {
    "name": "ipython",
    "version": 3
   },
   "file_extension": ".py",
   "mimetype": "text/x-python",
   "name": "python",
   "nbconvert_exporter": "python",
   "pygments_lexer": "ipython3",
   "version": "3.9.12"
  }
 },
 "nbformat": 4,
 "nbformat_minor": 5
}
