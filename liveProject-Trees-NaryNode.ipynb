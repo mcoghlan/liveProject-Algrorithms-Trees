{
 "cells": [
  {
   "cell_type": "code",
   "execution_count": 36,
   "id": "1e14bd5c",
   "metadata": {},
   "outputs": [
    {
     "name": "stdout",
     "output_type": "stream",
     "text": [
      "Root: A B C \n",
      "A: D E \n",
      "B: \n",
      "C: F \n",
      "D: G \n",
      "E: \n",
      "F: H I \n",
      "G: \n",
      "H: \n",
      "I: "
     ]
    }
   ],
   "source": [
    "class NaryNode:\n",
    "    \n",
    "    def add_child(self, child):\n",
    "        self.children.append(child)        \n",
    "    \n",
    "    \n",
    "    def __str__(self):\n",
    "        return (self.value, self.children)\n",
    "    \n",
    "    def __init__(self, v=0, children=[]):\n",
    "        self.value = v\n",
    "        self.children = []\n",
    "        return  \n",
    "    \n",
    "root = NaryNode()\n",
    "A = NaryNode()\n",
    "B = NaryNode()\n",
    "C = NaryNode()\n",
    "D = NaryNode()\n",
    "E = NaryNode()\n",
    "F = NaryNode()\n",
    "G = NaryNode()\n",
    "H = NaryNode()\n",
    "I = NaryNode()\n",
    "\n",
    "root.add_child('A')\n",
    "root.add_child(\"B\")\n",
    "root.add_child(\"C\")\n",
    "A.add_child(\"D\")\n",
    "A.add_child(\"E\")\n",
    "C.add_child(\"F\")\n",
    "D.add_child(\"G\")\n",
    "F.add_child(\"H\")\n",
    "F.add_child(\"I\")\n",
    "\n",
    "\n",
    "print(\"Root: \", end=\"\")\n",
    "for each in root.children: print(each + \" \", end=\"\")\n",
    "print(\"\\nA: \", end=\"\")\n",
    "for each in A.children: print(each + \" \", end=\"\")\n",
    "print(\"\\nB: \", end=\"\")\n",
    "for each in B.children: print(each + \" \", end=\"\")\n",
    "print(\"\\nC: \", end=\"\")\n",
    "for each in C.children: print(each + \" \", end=\"\")\n",
    "print(\"\\nD: \", end=\"\")\n",
    "for each in D.children: print(each + \" \", end=\"\")\n",
    "print(\"\\nE: \", end=\"\")\n",
    "for each in E.children: print(each + \" \", end=\"\")\n",
    "print(\"\\nF: \", end=\"\")\n",
    "for each in F.children: print(each + \" \", end=\"\")\n",
    "print(\"\\nG: \", end=\"\")\n",
    "for each in G.children: print(each + \" \", end=\"\")\n",
    "print(\"\\nH: \", end=\"\")\n",
    "for each in H.children: print(each + \" \", end=\"\")\n",
    "print(\"\\nI: \", end=\"\")\n",
    "for each in I.children: print(each + \" \", end=\"\")\n",
    "    \n",
    "    "
   ]
  },
  {
   "cell_type": "code",
   "execution_count": null,
   "id": "5a6d8d5d",
   "metadata": {},
   "outputs": [],
   "source": []
  },
  {
   "cell_type": "code",
   "execution_count": null,
   "id": "d4fd7387",
   "metadata": {},
   "outputs": [],
   "source": []
  },
  {
   "cell_type": "code",
   "execution_count": null,
   "id": "5c3c3c4e",
   "metadata": {},
   "outputs": [],
   "source": []
  },
  {
   "cell_type": "code",
   "execution_count": null,
   "id": "5cababbd",
   "metadata": {},
   "outputs": [],
   "source": []
  }
 ],
 "metadata": {
  "kernelspec": {
   "display_name": "Python 3 (ipykernel)",
   "language": "python",
   "name": "python3"
  },
  "language_info": {
   "codemirror_mode": {
    "name": "ipython",
    "version": 3
   },
   "file_extension": ".py",
   "mimetype": "text/x-python",
   "name": "python",
   "nbconvert_exporter": "python",
   "pygments_lexer": "ipython3",
   "version": "3.9.12"
  }
 },
 "nbformat": 4,
 "nbformat_minor": 5
}
